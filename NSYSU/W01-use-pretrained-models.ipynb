{
  "cells": [
    {
      "cell_type": "markdown",
      "metadata": {
        "id": "view-in-github",
        "colab_type": "text"
      },
      "source": [
        "<a href=\"https://colab.research.google.com/github/jephianlin/NLP-demos/blob/main/NSYSU/W01-use-pretrained-models.ipynb\" target=\"_parent\"><img src=\"https://colab.research.google.com/assets/colab-badge.svg\" alt=\"Open In Colab\"/></a>"
      ]
    },
    {
      "cell_type": "markdown",
      "source": [
        "This notebook is adapted by [Haowen Jiang](https://howard-haowen.rohan.tw/) from [this one](https://github.com/nlptown/nlp-notebooks/blob/master/NLP%20with%20pretrained%20models%20-%20spaCy%20and%20StanfordNLP.ipynb) included in the [nlptown\n",
        "/nlp-notebooks](https://github.com/nlptown/nlp-notebooks) repo. It is meant for the 2022 [NLP Workshop at NSYSU](https://howard-haowen.rohan.tw/NLP-demos/nsysu_workshop)."
      ],
      "metadata": {
        "id": "3gHdfxlxuvo3"
      }
    },
    {
      "cell_type": "code",
      "source": [
        "from datetime import date\n",
        "\n",
        "today = date.today()\n",
        "print(\"Last updated:\", today)"
      ],
      "metadata": {
        "id": "XUnEs1QovufO"
      },
      "execution_count": null,
      "outputs": []
    },
    {
      "cell_type": "markdown",
      "metadata": {
        "id": "FGALGAK2wk-0"
      },
      "source": [
        "# NLP with pretrained models - spaCy and StanfordNLP"
      ]
    },
    {
      "cell_type": "code",
      "source": [
        "!pip install -U pip setuptools wheel\n",
        "!pip install -U spacy\n",
        "!python -m spacy download en_core_web_md\n",
        "!python -m spacy download zh_core_web_md"
      ],
      "metadata": {
        "id": "5T0bh4HV62Vo"
      },
      "execution_count": null,
      "outputs": []
    },
    {
      "cell_type": "markdown",
      "source": [
        "![](https://spacy.io/pipeline-fde48da9b43661abcdf62ab70a546d71.svg)"
      ],
      "metadata": {
        "id": "4xxgDzNgA__e"
      }
    },
    {
      "cell_type": "code",
      "execution_count": null,
      "metadata": {
        "id": "AG9Fr9tMwk-5"
      },
      "outputs": [],
      "source": [
        "import spacy\n",
        "from IPython.display import HTML, display\n",
        "import tabulate"
      ]
    },
    {
      "cell_type": "code",
      "source": [
        "spacy.info()"
      ],
      "metadata": {
        "id": "sZ0etPoz2Xuy"
      },
      "execution_count": null,
      "outputs": []
    },
    {
      "cell_type": "markdown",
      "source": [
        "- To get you started, play with [this Web App](https://share.streamlit.io/howard-haowen/spacy-streamlit/app.py) that I created, which is powered by spaCy."
      ],
      "metadata": {
        "id": "kUXK0igWCdoq"
      }
    },
    {
      "cell_type": "markdown",
      "source": [
        "## English NLP"
      ],
      "metadata": {
        "id": "bDns3sBg2rvZ"
      }
    },
    {
      "cell_type": "code",
      "source": [
        "en = spacy.load(\"en_core_web_md\")"
      ],
      "metadata": {
        "id": "fy_QA0ib7hE1"
      },
      "execution_count": null,
      "outputs": []
    },
    {
      "cell_type": "code",
      "execution_count": null,
      "metadata": {
        "id": "xlVecKvxwk-7"
      },
      "outputs": [],
      "source": [
        "text = (\"Donald John Trump (born June 14, 1946) is the 45th and current president of \"\n",
        "        \"the United States.  Before entering politics, he was a businessman and television personality.\")\n",
        "print(text)"
      ]
    },
    {
      "cell_type": "code",
      "execution_count": null,
      "metadata": {
        "id": "3l3k7kszwk-7"
      },
      "outputs": [],
      "source": [
        "doc_en = en(text)"
      ]
    },
    {
      "cell_type": "markdown",
      "metadata": {
        "id": "zSv5WA3twk-8"
      },
      "source": [
        "First spaCy splits your document into sentences, and the sentences in tokens."
      ]
    },
    {
      "cell_type": "markdown",
      "source": [
        "- doc.sents = generator\n",
        "- type(doc.sents)\n"
      ],
      "metadata": {
        "id": "VzyyySXdZnkA"
      }
    },
    {
      "cell_type": "code",
      "execution_count": null,
      "metadata": {
        "id": "1IduCRRqwk-8"
      },
      "outputs": [],
      "source": [
        "list(doc_en.sents)"
      ]
    },
    {
      "cell_type": "code",
      "execution_count": null,
      "metadata": {
        "id": "4g_rM0qIwk-8"
      },
      "outputs": [],
      "source": [
        "tokens = [token.text for token in doc_en]\n",
        "print(tokens)"
      ]
    },
    {
      "cell_type": "markdown",
      "metadata": {
        "id": "hokEXPh0wk-9"
      },
      "source": [
        "In addition, spaCy also identifies a number of linguistic features for every token. The most basic of these are the lemma, and two types of parts-of-speech tags: the `pos_` attribute contains the [Universal POS tags](https://universaldependencies.org/u/pos/) from the [Universal Dependencies](https://universaldependencies.org/), while the `tag_` attribute contains more fine-grained, language-specific part-of-speech tags."
      ]
    },
    {
      "cell_type": "code",
      "execution_count": null,
      "metadata": {
        "id": "0fQ81Ye9wk-_"
      },
      "outputs": [],
      "source": [
        "features = [[t.orth_, t.lemma_, t.pos_, t.tag_] for t in doc_en]\n",
        "display(HTML(tabulate.tabulate(features, tablefmt='html')))"
      ]
    },
    {
      "cell_type": "markdown",
      "metadata": {
        "id": "c1ZjaXBfwk_A"
      },
      "source": [
        "Next, spaCy also offers pre-trained models for named entity recognition. Their results can be found on the `ent_iob_` and `ent_type` attributes. The `ent_type` attribute tells us what type of entity the token refers to. In the English models, these entity types follow the [OntoNotes standard](https://catalog.ldc.upenn.edu/docs/LDC2013T19/OntoNotes-Release-5.0.pdf). In our example, we see that `Donald John Trump` refers to a person, `June 14, 1946` to a date, `45th` to an ordinal number, and `the United States` to a geo-political entity (GPE).\n",
        "\n",
        "The letters on the `ent_iob_` attribute give the position of the token in the entity. `O` means the token is outside of an entity, `B` means the token is at the beginning of an entity, and `I` means it is inside an entity (at any position except for the beginning). In this way, we can tell apart several entities of the same type that immediately follow each other. Together these letters form the so-called `BIO` tagging scheme. There are other tagging schemes, such as `BILUO`, which also has letters for the last position and single (unique) tokens in an entity, but the BIO scheme gives you all the information you need.  "
      ]
    },
    {
      "cell_type": "code",
      "execution_count": null,
      "metadata": {
        "id": "n-es444kwk_A"
      },
      "outputs": [],
      "source": [
        "entities = [(t.orth_, t.ent_iob_, t.ent_type_) for t in doc_en]\n",
        "display(HTML(tabulate.tabulate(entities, tablefmt='html')))"
      ]
    },
    {
      "cell_type": "markdown",
      "metadata": {
        "id": "sAnHlup7wk_B"
      },
      "source": [
        "You can also access the entities directly on the `ents` attribute of the document:"
      ]
    },
    {
      "cell_type": "code",
      "execution_count": null,
      "metadata": {
        "id": "eguxaqnVwk_B"
      },
      "outputs": [],
      "source": [
        "print([(ent.text, ent.label_) for ent in doc_en.ents])"
      ]
    },
    {
      "cell_type": "markdown",
      "metadata": {
        "id": "R_lp-ih4wk_B"
      },
      "source": [
        "spaCy also contains a dependency parser, which analyzes the grammatical relations between the tokens."
      ]
    },
    {
      "cell_type": "code",
      "execution_count": null,
      "metadata": {
        "id": "QZHHNKwTwk_C"
      },
      "outputs": [],
      "source": [
        "syntax = [[token.text, token.dep_, token.head.text ] for token in doc_en]\n",
        "display(HTML(tabulate.tabulate(syntax, tablefmt='html')))"
      ]
    },
    {
      "cell_type": "markdown",
      "source": [
        "Finally, the English spaCy model contains a morphological parser."
      ],
      "metadata": {
        "id": "umAUHhTdQU8b"
      }
    },
    {
      "cell_type": "code",
      "source": [
        "features = [[t.text, str(t.morph)] for t in doc_en]\n",
        "display(HTML(tabulate.tabulate(features, tablefmt='html')))"
      ],
      "metadata": {
        "id": "xpFmyJaVQVm2"
      },
      "execution_count": null,
      "outputs": []
    },
    {
      "cell_type": "markdown",
      "metadata": {
        "id": "vLClbFviwk_C"
      },
      "source": [
        "## Multilingual NLP"
      ]
    },
    {
      "cell_type": "markdown",
      "metadata": {
        "id": "Ckbp79ilwk_C"
      },
      "source": [
        "SpaCy doesn't only have models for English, but also for many other languages."
      ]
    },
    {
      "cell_type": "code",
      "source": [
        "zh = spacy.load(\"zh_core_web_md\")"
      ],
      "metadata": {
        "id": "q5zp8GAz8hxh"
      },
      "execution_count": null,
      "outputs": []
    },
    {
      "cell_type": "code",
      "execution_count": null,
      "metadata": {
        "id": "5HemfWhawk_C"
      },
      "outputs": [],
      "source": [
        "text_zh = \"中山大學人文暨科技跨領域學士學位學程助理教授宋世祥表示，2021年聖誕節假期期間，師生舉辦「街頭玩童～鹽埕兒童街區遊戲日」成果展。活動中可看見學生運用贊助單位瑞儀教育基金會致贈的廢棄木棧板，製作了6具兒童創意遊具，一方面展示學習成果，也希望藉此呼籲高雄民眾重視兒童的遊戲權。\"\n",
        "doc_zh = zh(text_zh)"
      ]
    },
    {
      "cell_type": "markdown",
      "metadata": {
        "id": "xsF4wHjwwk_D"
      },
      "source": [
        "The tokens in the Chinese document have the same attributes as those in the English one. Take care, however, because the functionality of the models can differ across languages. Here are three main differences between the English and the Chinese model:\n",
        "\n",
        "- The Chinese model does not offer lemmatization: the `text` attribute is identical to the `orth_` attribute."
      ]
    },
    {
      "cell_type": "code",
      "source": [
        "list(doc_zh.sents)"
      ],
      "metadata": {
        "id": "AogpQPsO8DRR"
      },
      "execution_count": null,
      "outputs": []
    },
    {
      "cell_type": "code",
      "source": [
        "tok_text = [tok.text for tok in doc_zh]\n",
        "tok_orth = [tok.orth_ for tok in doc_zh]\n",
        "print(tok_text)\n",
        "print(tok_orth)"
      ],
      "metadata": {
        "id": "Q7uMi5669USU"
      },
      "execution_count": null,
      "outputs": []
    },
    {
      "cell_type": "markdown",
      "source": [
        "- The Chinese model has a very different fine-grained part-of-speech tags on the `tag_` attribute."
      ],
      "metadata": {
        "id": "fF8SN7SUAX8y"
      }
    },
    {
      "cell_type": "code",
      "source": [
        "for tok in list(doc_zh.sents)[1]:\n",
        "    print(f\"{tok.text} >>> {tok.pos_}\")"
      ],
      "metadata": {
        "id": "7zf3TSWY95hc"
      },
      "execution_count": null,
      "outputs": []
    },
    {
      "cell_type": "code",
      "source": [
        "for tok in list(doc_zh.sents)[1]:\n",
        "    print(f\"{tok.text} >>> {tok.tag_} | {spacy.explain(tok.tag_)}\")"
      ],
      "metadata": {
        "id": "IgpNWCl4AAke"
      },
      "execution_count": null,
      "outputs": []
    },
    {
      "cell_type": "markdown",
      "source": [
        "- The Chinese model has different entity types (PER, LOC and ORG) than the English one.\n",
        "\n",
        "This is a result of the training corpora that were used to build the models, whose annotation guidelines may be very different."
      ],
      "metadata": {
        "id": "vZmsq_gYAc0T"
      }
    },
    {
      "cell_type": "code",
      "source": [
        "info = [(t.text, t.pos_, t.tag_, t.ent_iob_, t.ent_type_) for t in doc_zh]\n",
        "display(HTML(tabulate.tabulate(info, tablefmt='html')))"
      ],
      "metadata": {
        "id": "V3hIsara5th9"
      },
      "execution_count": null,
      "outputs": []
    },
    {
      "cell_type": "markdown",
      "source": [
        "## Visualization"
      ],
      "metadata": {
        "id": "3GyNQ4UjDqTH"
      }
    },
    {
      "cell_type": "code",
      "source": [
        "from spacy import displacy"
      ],
      "metadata": {
        "id": "DoENmU8oBQMt"
      },
      "execution_count": null,
      "outputs": []
    },
    {
      "cell_type": "code",
      "source": [
        "displacy.render(doc_zh, style='ent',jupyter=True, options={'distance':130})"
      ],
      "metadata": {
        "id": "UNGB9n6nDuTE"
      },
      "execution_count": null,
      "outputs": []
    },
    {
      "cell_type": "code",
      "source": [
        "text = \"我想要三份2號餐\"\n",
        "doc = zh(text)\n",
        "displacy.render(doc, style='dep',jupyter=True, options={'distance':130})"
      ],
      "metadata": {
        "id": "8bZWBpW8BR73"
      },
      "execution_count": null,
      "outputs": []
    },
    {
      "cell_type": "markdown",
      "source": [
        "## DataFrame + spaCy = dframcy"
      ],
      "metadata": {
        "id": "6-A6lmiG_1Yd"
      }
    },
    {
      "cell_type": "code",
      "source": [
        "!pip install dframcy"
      ],
      "metadata": {
        "id": "xQBGx3gB-sQK"
      },
      "execution_count": null,
      "outputs": []
    },
    {
      "cell_type": "code",
      "source": [
        "from dframcy import DframCy"
      ],
      "metadata": {
        "id": "u0sexga0-yWU"
      },
      "execution_count": null,
      "outputs": []
    },
    {
      "cell_type": "code",
      "source": [
        "nlp = spacy.load('zh_core_web_md')\n",
        "dframcy = DframCy(nlp)\n",
        "doc = dframcy.nlp(text_zh)\n",
        "annotation_dataframe = dframcy.to_dataframe(doc)\n",
        "annotation_dataframe"
      ],
      "metadata": {
        "id": "UDO97xhS-pnj"
      },
      "execution_count": null,
      "outputs": []
    },
    {
      "cell_type": "markdown",
      "source": [
        "Once annotations are stored as a DataFrame object, filtering can be easily done by leveraging the power of `pandas` syntax."
      ],
      "metadata": {
        "id": "S7u0msqWA2Km"
      }
    },
    {
      "cell_type": "code",
      "source": [
        "nn_filt = annotation_dataframe['token_tag_'] == 'NN'\n",
        "dobj_filt = annotation_dataframe['token_dep_'] == 'dobj'\n",
        "annotation_dataframe[(nn_filt) & dobj_filt]"
      ],
      "metadata": {
        "id": "YK2eJJojEf_I"
      },
      "execution_count": null,
      "outputs": []
    },
    {
      "cell_type": "markdown",
      "source": [
        "## Vectors"
      ],
      "metadata": {
        "id": "rCpCdxLhF0Pq"
      }
    },
    {
      "cell_type": "code",
      "source": [
        "doc = zh(\"教授\")\n",
        "tok = doc[0]\n",
        "tok.vector"
      ],
      "metadata": {
        "id": "2120c0njF2T1"
      },
      "execution_count": null,
      "outputs": []
    },
    {
      "cell_type": "code",
      "source": [
        "tok.vector.shape"
      ],
      "metadata": {
        "id": "EX_NjkK1F-mP"
      },
      "execution_count": null,
      "outputs": []
    },
    {
      "cell_type": "code",
      "source": [
        "word_1 = nlp.vocab[\"高興\"]\n",
        "word_2 = nlp.vocab[\"高雄\"]\n",
        "word_3 = nlp.vocab[\"開心\"]\n",
        "word_1_word_2 = word_1.similarity(word_2)\n",
        "word_1_word_3 = word_1.similarity(word_3)\n",
        "print(f\"Distance btn Word 1 and 2: {word_1_word_2}\")\n",
        "print(f\"Distance btn Word 1 and 3: {word_1_word_3}\")"
      ],
      "metadata": {
        "id": "TMz2mPd0GBaX"
      },
      "execution_count": null,
      "outputs": []
    },
    {
      "cell_type": "markdown",
      "source": [
        "- Cosine similarity\n",
        "\n",
        "![](https://datascience-enthusiast.com/figures/cosine_sim.png)\n",
        "\n",
        "- Formula for calculating cosine similarity between two vectors\n",
        "\n",
        "![](https://miro.medium.com/max/1400/1*LfW66-WsYkFqWc4XYJbEJg.png)"
      ],
      "metadata": {
        "id": "PTJbrvaAGNvq"
      }
    },
    {
      "cell_type": "markdown",
      "metadata": {
        "id": "04olEHqfwk_D"
      },
      "source": [
        "## StanfordNLP"
      ]
    },
    {
      "cell_type": "markdown",
      "metadata": {
        "id": "ghzefh-xwk_D"
      },
      "source": [
        "Another library whose functionality overlaps with that of spaCy is StanfordNLP. [StanfordNLP](https://stanfordnlp.github.io/stanfordnlp/), not to be confused with Stanford's Java [CoreNLP](https://stanfordnlp.github.io/CoreNLP/) library, is a [Python library](https://github.com/stanfordnlp/stanfordnlp) built on top of PyTorch that offers a fully neural pipeline with tokenization (including multi-word units), lemmatization, part-of-speech tagging (including morphological features) and dependency parsing. These components were built and trained for the [CoNLL-2018 shared task](https://nlp.stanford.edu/pubs/qi2018universal.pdf). There are no named entities, but the quality of the dependency parsing is state of the art. On top of that, it also offers a Python interface to CoreNLP."
      ]
    },
    {
      "cell_type": "markdown",
      "metadata": {
        "id": "I9UtQCFzwk_D"
      },
      "source": [
        "**`stanfordnlp` has been renamed to `stanza`.**"
      ]
    },
    {
      "cell_type": "code",
      "source": [
        "!pip install stanza"
      ],
      "metadata": {
        "id": "ZncAMak2G-0S",
        "outputId": "d22ef143-a474-4fba-a73d-fea3f2f45c36",
        "colab": {
          "base_uri": "https://localhost:8080/"
        }
      },
      "execution_count": 32,
      "outputs": [
        {
          "output_type": "stream",
          "name": "stdout",
          "text": [
            "Building wheels for collected packages: emoji\n",
            "  Building wheel for emoji (pyproject.toml) ... \u001b[?25l\u001b[?25hdone\n",
            "  Created wheel for emoji: filename=emoji-2.7.0-py2.py3-none-any.whl size=356563 sha256=d09aaa8666d376e9e35b949302cff36ee8b5830d5171ba869dd0ef3993ecda53\n",
            "  Stored in directory: /root/.cache/pip/wheels/41/11/48/5df0b9727d5669c9174a141134f10304d1d78a3b89a4676f3d\n",
            "Successfully built emoji\n",
            "Installing collected packages: emoji, stanza\n",
            "Successfully installed emoji-2.7.0 stanza-1.5.0\n",
            "\u001b[33mWARNING: Running pip as the 'root' user can result in broken permissions and conflicting behaviour with the system package manager. It is recommended to use a virtual environment instead: https://pip.pypa.io/warnings/venv\u001b[0m\u001b[33m\n",
            "\u001b[0m"
          ]
        }
      ]
    },
    {
      "cell_type": "code",
      "source": [
        "import stanza"
      ],
      "metadata": {
        "id": "-ct8iirDHhUa"
      },
      "execution_count": 33,
      "outputs": []
    },
    {
      "cell_type": "code",
      "source": [
        "stanza.download(\"zh-hant\")"
      ],
      "metadata": {
        "colab": {
          "base_uri": "https://localhost:8080/",
          "height": 146,
          "referenced_widgets": [
            "88d9468f907045139dcb5b8ce7dac320",
            "93f7dafa431a400bae65e84b7adad266",
            "ff902e79f43341628708f7f690e00dde",
            "cb45cfe58eda4093a1be3185f7fa45be",
            "a02ba6167e0142f5a9d5b931b3d1d41d",
            "a55a8deefdac499aa8c2aa980e9be26c",
            "4d74eca697bb43d9843638ae0c6193dd",
            "93999d6da8e1456385f93e3a495e9264",
            "e1de9669701847349106d800c6efbc6e",
            "4d2e4d374e7f43deab1139154e208bdb",
            "d6ca991abaa64aa1adc9982d9cbdf5bd",
            "5961daef24764b439ad964844b8ccd69"
          ]
        },
        "id": "C7S29T-ZKjWg",
        "outputId": "b6770a80-9685-4dfb-ed4f-e3825d94e650"
      },
      "execution_count": 34,
      "outputs": [
        {
          "output_type": "display_data",
          "data": {
            "text/plain": [
              "Downloading https://raw.githubusercontent.com/stanfordnlp/stanza-resources/main/resources_1.5.0.json:   0%|   …"
            ],
            "application/vnd.jupyter.widget-view+json": {
              "version_major": 2,
              "version_minor": 0,
              "model_id": "88d9468f907045139dcb5b8ce7dac320"
            }
          },
          "metadata": {}
        },
        {
          "output_type": "stream",
          "name": "stderr",
          "text": [
            "INFO:stanza:Downloading default packages for language: zh-hant (Traditional_Chinese) ...\n"
          ]
        },
        {
          "output_type": "display_data",
          "data": {
            "text/plain": [
              "Downloading https://huggingface.co/stanfordnlp/stanza-zh-hant/resolve/v1.5.0/models/default.zip:   0%|        …"
            ],
            "application/vnd.jupyter.widget-view+json": {
              "version_major": 2,
              "version_minor": 0,
              "model_id": "93f7dafa431a400bae65e84b7adad266"
            }
          },
          "metadata": {}
        },
        {
          "output_type": "stream",
          "name": "stderr",
          "text": [
            "INFO:stanza:Finished downloading models and saved to /root/stanza_resources.\n"
          ]
        }
      ]
    },
    {
      "cell_type": "code",
      "source": [
        "stf_nlp = stanza.Pipeline('zh-hant')"
      ],
      "metadata": {
        "colab": {
          "base_uri": "https://localhost:8080/",
          "height": 392,
          "referenced_widgets": [
            "77fc5e584f7f4983bb2dc750315f6140",
            "3b1a086bfc6e405ab6b97500b052bbbf",
            "3d6d6530d49041058a2abb51b18c6916",
            "fb9791b905b24599a7b252b394726e0d",
            "c5e7d169748d4e5b9cb980aa27d01721",
            "01ce4a7113e14888b8443410fbe4ee65",
            "367a92f024964173b1d98acc4d54f0c1",
            "89211a5e24d04c529809c65fac78f3d7",
            "af2cf252063c4739a316d4e7f3e6a841",
            "232ecfb14be44947ab99a42748eb1f31",
            "1e2775f35d624c92ab2e78a620af47af"
          ]
        },
        "id": "b5NFJi_WMByF",
        "outputId": "a0e807f4-5cb6-4bd8-8162-4fe42aae60ac"
      },
      "execution_count": 35,
      "outputs": [
        {
          "output_type": "stream",
          "name": "stderr",
          "text": [
            "INFO:stanza:Checking for updates to resources.json in case models have been updated.  Note: this behavior can be turned off with download_method=None or download_method=DownloadMethod.REUSE_RESOURCES\n"
          ]
        },
        {
          "output_type": "display_data",
          "data": {
            "text/plain": [
              "Downloading https://raw.githubusercontent.com/stanfordnlp/stanza-resources/main/resources_1.5.0.json:   0%|   …"
            ],
            "application/vnd.jupyter.widget-view+json": {
              "version_major": 2,
              "version_minor": 0,
              "model_id": "77fc5e584f7f4983bb2dc750315f6140"
            }
          },
          "metadata": {}
        },
        {
          "output_type": "stream",
          "name": "stderr",
          "text": [
            "INFO:stanza:Loading these models for language: zh-hant (Traditional_Chinese):\n",
            "=======================\n",
            "| Processor | Package |\n",
            "-----------------------\n",
            "| tokenize  | gsd     |\n",
            "| pos       | gsd     |\n",
            "| lemma     | gsd     |\n",
            "| depparse  | gsd     |\n",
            "=======================\n",
            "\n",
            "INFO:stanza:Using device: cpu\n",
            "INFO:stanza:Loading: tokenize\n",
            "INFO:stanza:Loading: pos\n",
            "INFO:stanza:Loading: lemma\n",
            "INFO:stanza:Loading: depparse\n",
            "INFO:stanza:Done loading processors!\n"
          ]
        }
      ]
    },
    {
      "cell_type": "code",
      "source": [
        "text_zh = \"中山大學人文暨科技跨領域學士學位學程助理教授宋世祥表示，2021年聖誕節假期期間，師生舉辦「街頭玩童～鹽埕兒童街區遊戲日」成果展。活動中可看見學生運用贊助單位瑞儀教育基金會致贈的廢棄木棧板，製作了6具兒童創意遊具，一方面展示學習成果，也希望藉此呼籲高雄民眾重視兒童的遊戲權。\"\n",
        "doc = stf_nlp(text_zh)\n",
        "type(doc)"
      ],
      "metadata": {
        "colab": {
          "base_uri": "https://localhost:8080/"
        },
        "id": "ZmZRFfdYHSnL",
        "outputId": "1d900806-b4d8-4817-e3d7-0020e81279fc"
      },
      "execution_count": 36,
      "outputs": [
        {
          "output_type": "execute_result",
          "data": {
            "text/plain": [
              "stanza.models.common.doc.Document"
            ]
          },
          "metadata": {},
          "execution_count": 36
        }
      ]
    },
    {
      "cell_type": "markdown",
      "source": [
        "Different models often produce different tokenization results, which in turn would have impact on POS and DEP tagging."
      ],
      "metadata": {
        "id": "RXC7KjTsVFQ6"
      }
    },
    {
      "cell_type": "markdown",
      "source": [
        "- Here're the results based on StandfordNLP."
      ],
      "metadata": {
        "id": "kci7Uko7VZcg"
      }
    },
    {
      "cell_type": "code",
      "source": [
        "for i, sent in enumerate(doc.sentences):\n",
        "    print(\"[Sentence {}]\".format(i+1))\n",
        "    for word in sent.words:\n",
        "        print(\"{:12s}\\t{:12s}\\t{:6s}\\t{:d}\\t{:12s}\".format(\\\n",
        "              word.text, word.lemma, word.pos, word.head, word.deprel))\n",
        "    print(\"\")"
      ],
      "metadata": {
        "colab": {
          "base_uri": "https://localhost:8080/"
        },
        "id": "ENBx-6QY74qU",
        "outputId": "b189021c-8fc3-4488-f4a3-e5af0b018708"
      },
      "execution_count": 37,
      "outputs": [
        {
          "output_type": "stream",
          "name": "stdout",
          "text": [
            "[Sentence 1]\n",
            "中山          \t中山          \tPROPN \t3\tnmod        \n",
            "大學          \t大學          \tNOUN  \t3\tnmod        \n",
            "人文          \t人文          \tNOUN  \t12\tnmod        \n",
            "暨           \t暨           \tCCONJ \t6\tcc          \n",
            "科技          \t科技          \tNOUN  \t6\tcompound    \n",
            "跨           \t跨           \tPART  \t3\tconj        \n",
            "領域          \t領域          \tNOUN  \t12\tnmod        \n",
            "學士          \t學士          \tNOUN  \t12\tnmod        \n",
            "學位          \t學位          \tNOUN  \t12\tnmod        \n",
            "學程          \t學程          \tNOUN  \t12\tnmod        \n",
            "助理          \t助理          \tNOUN  \t12\tnmod        \n",
            "教授          \t教授          \tNOUN  \t15\tnsubj       \n",
            "宋           \t宋           \tPROPN \t12\tappos       \n",
            "世祥          \t世祥          \tPROPN \t13\tflat:name   \n",
            "表示          \t表示          \tVERB  \t0\troot        \n",
            "，           \t，           \tPUNCT \t15\tpunct       \n",
            "2021        \t2021        \tNUM   \t18\tnummod      \n",
            "年           \t年           \tNOUN  \t22\tclf         \n",
            "聖誕          \t聖誕          \tPROPN \t20\tcompound    \n",
            "節           \t節           \tPART  \t22\tnmod        \n",
            "假期          \t假期          \tNOUN  \t22\tnmod        \n",
            "期間          \t期間          \tNOUN  \t25\tnmod:tmod   \n",
            "，           \t，           \tPUNCT \t25\tpunct       \n",
            "師生          \t師生          \tNOUN  \t25\tnsubj       \n",
            "舉辦          \t舉辦          \tVERB  \t15\tparataxis   \n",
            "「           \t「           \tPUNCT \t35\tpunct       \n",
            "街頭          \t街頭          \tNOUN  \t35\tnmod        \n",
            "玩童          \t玩童          \tNOUN  \t29\tcompound    \n",
            "～           \t～           \tPART  \t30\tcompound    \n",
            "鹽           \t鹽           \tPART  \t31\tcompound    \n",
            "埕           \t埕           \tPART  \t35\tnmod        \n",
            "兒童          \t兒童          \tNOUN  \t35\tnmod        \n",
            "街區          \t街區          \tNOUN  \t35\tnmod        \n",
            "遊戲          \t遊戲          \tNOUN  \t35\tcompound    \n",
            "日           \t日           \tPART  \t38\tnmod        \n",
            "」           \t」           \tPUNCT \t35\tpunct       \n",
            "成果          \t成果          \tVERB  \t38\tcompound    \n",
            "展           \t展           \tPART  \t25\tobj         \n",
            "。           \t。           \tPUNCT \t15\tpunct       \n",
            "\n",
            "[Sentence 2]\n",
            "活動          \t活動          \tNOUN  \t34\tadvmod      \n",
            "中           \t中           \tADP   \t1\tacl         \n",
            "可           \t可           \tAUX   \t4\taux         \n",
            "看見          \t看見          \tVERB  \t34\tadvcl       \n",
            "學生          \t學生          \tNOUN  \t6\tnsubj       \n",
            "運用          \t運用          \tVERB  \t4\tccomp       \n",
            "贊助          \t贊助          \tNOUN  \t8\tnmod        \n",
            "單位          \t單位          \tNOUN  \t13\tnsubj       \n",
            "瑞儀          \t瑞儀          \tPROPN \t12\tnmod        \n",
            "教育          \t教育          \tNOUN  \t12\tnmod        \n",
            "基金          \t基金          \tNOUN  \t12\tcompound    \n",
            "會           \t會           \tPART  \t13\tnsubj       \n",
            "致贈          \t致贈          \tVERB  \t17\tacl:relcl   \n",
            "的           \t的           \tPART  \t13\tmark:rel    \n",
            "廢棄          \t廢棄          \tVERB  \t17\tamod        \n",
            "木棧          \t木棧          \tNOUN  \t17\tcompound    \n",
            "板           \t板           \tPART  \t6\tobj         \n",
            "，           \t，           \tPUNCT \t34\tpunct       \n",
            "製作          \t製作          \tVERB  \t34\tadvcl       \n",
            "了           \t了           \tAUX   \t19\taux         \n",
            "6           \t6           \tNUM   \t22\tadvmod      \n",
            "具           \t具           \tVERB  \t25\tamod        \n",
            "兒童          \t兒童          \tNOUN  \t25\tnmod        \n",
            "創意          \t創意          \tNOUN  \t25\tnmod        \n",
            "遊具          \t遊具          \tNOUN  \t19\tobj         \n",
            "，           \t，           \tPUNCT \t34\tpunct       \n",
            "一           \t一           \tNUM   \t28\tnummod      \n",
            "方面          \t方面          \tNOUN  \t29\tadvmod      \n",
            "展示          \t展示          \tVERB  \t34\tadvcl       \n",
            "學習          \t學習          \tNOUN  \t31\tnmod        \n",
            "成果          \t成果          \tNOUN  \t29\tobj         \n",
            "，           \t，           \tPUNCT \t34\tpunct       \n",
            "也           \t也           \tADV   \t34\tmark        \n",
            "希望          \t希望          \tVERB  \t0\troot        \n",
            "藉此          \t藉此          \tADV   \t36\tadvmod      \n",
            "呼籲          \t呼籲          \tVERB  \t34\txcomp       \n",
            "高雄          \t高雄          \tPROPN \t38\tnmod        \n",
            "民眾          \t民眾          \tNOUN  \t39\tnsubj       \n",
            "重視          \t重視          \tVERB  \t43\tacl:relcl   \n",
            "兒童          \t兒童          \tNOUN  \t39\tobj         \n",
            "的           \t的           \tPART  \t39\tmark:rel    \n",
            "遊戲          \t遊戲          \tNOUN  \t43\tcompound    \n",
            "權           \t權           \tPART  \t36\tobj         \n",
            "。           \t。           \tPUNCT \t34\tpunct       \n",
            "\n"
          ]
        }
      ]
    },
    {
      "cell_type": "markdown",
      "source": [
        "# Assignment\n"
      ],
      "metadata": {
        "id": "RE5T8kxWSwmH"
      }
    },
    {
      "cell_type": "markdown",
      "source": [
        "## Analyze Enlgish"
      ],
      "metadata": {
        "id": "hfDmTaw0TrZ7"
      }
    },
    {
      "cell_type": "markdown",
      "source": [
        "- Input: any English news article of your choice\n",
        "- Ouput:\n",
        "    - A list of unique lemmas of all verbs in lower case\n",
        "    - A list of unique tuples of (NER text, NER label)\n",
        "\n",
        "\n"
      ],
      "metadata": {
        "id": "wFjZct1ES--5"
      }
    },
    {
      "cell_type": "code",
      "source": [
        "# Change this to any other article of your choice.\n",
        "\n",
        "en_input = \"\"\"\n",
        "Taipei, April 7 (CNA) Health and Welfare Minister Chen Shih-chung (陳時中) said Thursday that COVID-19 contact tracing has been partially suspended in Taiwan and a new disease control model is being put in place, amid a rise in domestic cases.\n",
        "\n",
        "The immediate suspension of contract tracing applies only to travelers who test positive for COVID-19 in Taiwan, either on arrival at the airport or during mandatory quarantine, Chen said.\n",
        "\n",
        "That decision was made in a bid to free up resources to monitor the growing number of domestic COVID-19 cases, he said at a press briefing, after he reported 531 new cases -- 382 domestically transmitted and 149 imported.\n",
        "\n",
        "Chen said contact tracing on new imported cases will only be done if any of them are believed to be linked to COVID-19 clusters at quarantine hotels or quarantine centers in Taiwan.\n",
        "\n",
        "Prior to Thursday, Taiwan had been reporting its contact tracing information on imported COVID-19 cases via the World Health Organization's International Health Regulations (IHR) mechanism, he said.\n",
        "\n",
        "Regarding the recent daily rise in domestic infections, Chen said the current goal is to bring the situation under control, even though it is impossible to achieve zero new domestic cases at this time.\n",
        "\n",
        "Despite the recent spike, the daily number of domestic COVID-19 cases in Taiwan is still low compared to many other countries, he said, citing as an example the 534 new cases per 100,000 population reported in South Korea on Tuesday.\n",
        "\n",
        "Once people in Taiwan stick together and do their part to prevent the spread of the virus, the situation will be manageable, Chen said.\n",
        "\n",
        "Based on the trajectory of COVID-19 Omicron outbreaks observed in many other countries around the world, he said, it is likely that the infections in Taiwan will peak in a month or two.\n",
        "\n",
        "\"We do not expect the outbreak to stop growing now, but we hope it will rise slowly, so that Taiwan's medical capacity will not be overloaded,\" Chen said.\n",
        "\n",
        "Meanwhile, earlier in the day, the Cabinet announced that Taiwan was adopting a new model for the control of COVID-19 infections.\n",
        "\n",
        "Under the \"new Taiwan model,\" the country has let go of its goal to achieve zero COVID-19 cases, but this does not mean allowing the pandemic go unmanaged, Cabinet spokesman Lo Ping-cheng (羅秉成) said, citing Premier Su Tseng-chang (蘇貞昌).\n",
        "\n",
        "In a meeting earlier with Ministry of Health and Welfare (MOHW) officials, Premier Su said that as Taiwan moves towards a new stage of epidemic prevention, he hopes that the central and local governments will work together to gradually open up the country, in the interests of its people and economy, according to Lo.\n",
        "\n",
        "In a report presented to the Cabinet on Thursday, the MOHW said Taiwan will continue to actively manage the COVID-19 situation, while steadily opening up its borders, in consideration of national economic factors and the people's livelihood.\n",
        "\"\"\""
      ],
      "metadata": {
        "id": "mWg-kuyPXagy"
      },
      "execution_count": 38,
      "outputs": []
    },
    {
      "cell_type": "code",
      "source": [
        "# Start by turning a text into a spaCy Doc object\n",
        "# en_doc = en(en_input)"
      ],
      "metadata": {
        "id": "Fsb37mkWDTlR"
      },
      "execution_count": 39,
      "outputs": []
    },
    {
      "cell_type": "code",
      "source": [
        "#===Write your code below and save the output as `verbs`.===#\n",
        "\n",
        "\n",
        "# verbs ="
      ],
      "metadata": {
        "id": "FHBSsFhDHahi"
      },
      "execution_count": 40,
      "outputs": []
    },
    {
      "cell_type": "code",
      "source": [
        "#===Write your code below and save the output as `en_ents`.===#\n",
        "\n",
        "\n",
        "# en_ents ="
      ],
      "metadata": {
        "id": "b_cLlJhODK-K"
      },
      "execution_count": 41,
      "outputs": []
    },
    {
      "cell_type": "markdown",
      "source": [
        "## Analyze Chinese"
      ],
      "metadata": {
        "id": "54HIkSkRTzqe"
      }
    },
    {
      "cell_type": "markdown",
      "source": [
        "- Input 1: any Chinese news article from Taiwan media of your choice\n",
        "- Ouput 1:\n",
        "    - A list of unique tokens except for punctuations\n",
        "    - A list of unique tuples of (NER text, NER label)"
      ],
      "metadata": {
        "id": "WaHx9Pj-VpPj"
      }
    },
    {
      "cell_type": "code",
      "source": [
        "# Change this to any other article of your choice.\n",
        "\n",
        "zh_input = \"\"\"\n",
        "本土個案昨增三八二例再創新高，確診案例遍及十九縣市，境外增一四九例，單日破五百案例。\n",
        "\n",
        "中央疫情指揮中心指揮官陳時中表示，個案數還會往上升，預估一至兩個月內達最高峰，疫情將持續到六月底且還不會到尾聲；他也首度鬆口「清零不可能」，未來將走向與病毒共存，下周擬試辦「輕症在家」隔離，同時也將調整停課標準。\n",
        "\n",
        "擬以居家快篩取代停課\n",
        "國內確診個案上升，全國累積十四縣市共一三九所校園停課，各縣市對畢業旅行、戶外教學是否取消標準不一，教師團體認為政府應該明確表態，否則會造成校園恐慌或影響學生受教權。陳時中表示，未來必然走向與病毒共存，下周將與教育部檢討停課標準，縮小匡列範圍，並在合理範圍以居家快篩來取代停課。\n",
        "\n",
        "疫情一至兩個月達高峰\n",
        "指揮中心比照韓國、紐西蘭及香港疫情發展，推估未來一至兩個月確診案例將飆至最高峰，陳時中表示，目前Omicron確診數仍算低，但規模難以預估，未來單日恐超過一千五百例，屆時致死率、個案數飆高或疫情高峰下不來，社會將承擔不起，因此仍須積極因應，朝「緩坡上升」方向努力。\n",
        "\n",
        "輕症在家指引至今沒譜\n",
        "總統蔡英文日前宣布防疫以「減災」為目標避免醫療量能超載，「輕症在家」隔離為其中配套，單日確診數若達一千五百人將啟動。指揮中心下周將擬定「輕症在家照護指引」，如設醫療遠距平台、送藥、戶政及警政系統聯繫、關懷中心運作等，若未遵守隔離規定將有罰則，並因應地方疫情升溫和醫療量能吃緊，將從新北試辦。\n",
        "\n",
        "立委賴惠員、蔣萬安昨於衛環委員會質詢時，質疑各地方早已喊話希望指揮中心相關指引快出來，但至今連社區溝通、徵求試辦的地方政府意願統統沒有譜。\n",
        "\n",
        "台北市長柯文哲昨晚也在臉書表示「北市防疫旅館量能告急」，因每天確診人數不斷攀升，近期有近萬名移工入境，幾乎把北市的防疫旅館量能占滿。北市已發出徵召令，徵用加強版防疫專責旅館，讓輕症、低危險確診者入住。\n",
        "\n",
        "總統府、監察院傳確診者\n",
        "本土疫情多點爆發，公務機關包括總統府、監察院、台北市議會都傳出有確診者，北中南八大行業確診人數也驟增，未來場所是否新增禁令，指揮中心將再討論。\n",
        "\n",
        "境外移入昨增一四九例個案，有七十八例為航班落地採檢陽性，越南有十七例居冠。指揮中心表示，目前落地採檢陽性率約落在四％到五％間，即日起越南航空、越捷航空及越竹航空等三航空公司班機，增加「搭機前六小時內抗原快篩報告」才可入境。\n",
        "\"\"\""
      ],
      "metadata": {
        "id": "ZHfzWXqpXrsI"
      },
      "execution_count": 42,
      "outputs": []
    },
    {
      "cell_type": "code",
      "source": [
        "# Start by turning a text into a spaCy Doc object\n",
        "# zh_doc = zh(zh_input)"
      ],
      "metadata": {
        "id": "zNBQwui9Dwk4"
      },
      "execution_count": 43,
      "outputs": []
    },
    {
      "cell_type": "code",
      "source": [
        "#===Write your code below and save the output as `zh_toks`.===#\n",
        "\n",
        "# zh_toks ="
      ],
      "metadata": {
        "id": "7R7DG4a3Dv9I"
      },
      "execution_count": 44,
      "outputs": []
    },
    {
      "cell_type": "code",
      "source": [
        "#===Write your code below and save the output as `zh_ents`.===#\n",
        "\n",
        "\n",
        "# zh_ents ="
      ],
      "metadata": {
        "id": "blh1uKC6EEbk"
      },
      "execution_count": 45,
      "outputs": []
    },
    {
      "cell_type": "markdown",
      "source": [
        "- Input 2: Simplified version of Input 1 (Use `opencc` to do the conversion.)\n",
        "- Ouput 2:\n",
        "    - A list of unique tokens except for punctuations\n",
        "    - A list of unique tuples of (NER text, NER label)"
      ],
      "metadata": {
        "id": "hpyxvj-kXSEZ"
      }
    },
    {
      "cell_type": "code",
      "source": [
        "!pip install opencc"
      ],
      "metadata": {
        "colab": {
          "base_uri": "https://localhost:8080/"
        },
        "id": "d7nTkl1vS9oz",
        "outputId": "1d7f74d5-21fa-46cc-c570-7f3d5d7111af"
      },
      "execution_count": 46,
      "outputs": [
        {
          "output_type": "stream",
          "name": "stdout",
          "text": [
            "Collecting opencc\n",
            "  Downloading OpenCC-1.1.6-cp310-cp310-manylinux1_x86_64.whl (778 kB)\n",
            "\u001b[?25l     \u001b[90m━━━━━━━━━━━━━━━━━━━━━━━━━━━━━━━━━━━━━━━━\u001b[0m \u001b[32m0.0/778.3 kB\u001b[0m \u001b[31m?\u001b[0m eta \u001b[36m-:--:--\u001b[0m\r\u001b[2K     \u001b[91m━━\u001b[0m\u001b[90m╺\u001b[0m\u001b[90m━━━━━━━━━━━━━━━━━━━━━━━━━━━━━━━━━━━━━\u001b[0m \u001b[32m41.0/778.3 kB\u001b[0m \u001b[31m1.3 MB/s\u001b[0m eta \u001b[36m0:00:01\u001b[0m\r\u001b[2K     \u001b[91m━━━━━━━━━━━━━━━━━━━━━━━━━━━━━━━━━━━━━\u001b[0m\u001b[91m╸\u001b[0m \u001b[32m778.2/778.3 kB\u001b[0m \u001b[31m11.3 MB/s\u001b[0m eta \u001b[36m0:00:01\u001b[0m\r\u001b[2K     \u001b[90m━━━━━━━━━━━━━━━━━━━━━━━━━━━━━━━━━━━━━━━\u001b[0m \u001b[32m778.3/778.3 kB\u001b[0m \u001b[31m9.5 MB/s\u001b[0m eta \u001b[36m0:00:00\u001b[0m\n",
            "\u001b[?25hInstalling collected packages: opencc\n",
            "Successfully installed opencc-1.1.6\n",
            "\u001b[33mWARNING: Running pip as the 'root' user can result in broken permissions and conflicting behaviour with the system package manager. It is recommended to use a virtual environment instead: https://pip.pypa.io/warnings/venv\u001b[0m\u001b[33m\n",
            "\u001b[0m"
          ]
        }
      ]
    },
    {
      "cell_type": "code",
      "source": [
        "import opencc"
      ],
      "metadata": {
        "id": "dJH14sEYEs_F"
      },
      "execution_count": 47,
      "outputs": []
    },
    {
      "cell_type": "code",
      "source": [
        "converter = opencc.OpenCC('t2s.json')\n",
        "sim_zh_input = converter.convert(zh_input)\n",
        "sim_zh_input"
      ],
      "metadata": {
        "colab": {
          "base_uri": "https://localhost:8080/",
          "height": 313
        },
        "id": "n9kuUV-wEr_t",
        "outputId": "6b4985b1-d6f1-4282-a859-95bc63f028ce"
      },
      "execution_count": 48,
      "outputs": [
        {
          "output_type": "execute_result",
          "data": {
            "text/plain": [
              "'\\n本土个案昨增三八二例再创新高，确诊案例遍及十九县市，境外增一四九例，单日破五百案例。\\n\\n中央疫情指挥中心指挥官陈时中表示，个案数还会往上升，预估一至两个月内达最高峰，疫情将持续到六月底且还不会到尾声；他也首度松口「清零不可能」，未来将走向与病毒共存，下周拟试办「轻症在家」隔离，同时也将调整停课标准。\\n\\n拟以居家快筛取代停课\\n国内确诊个案上升，全国累积十四县市共一三九所校园停课，各县市对毕业旅行、户外教学是否取消标准不一，教师团体认为政府应该明确表态，否则会造成校园恐慌或影响学生受教权。陈时中表示，未来必然走向与病毒共存，下周将与教育部检讨停课标准，缩小匡列范围，并在合理范围以居家快筛来取代停课。\\n\\n疫情一至两个月达高峰\\n指挥中心比照韩国、纽西兰及香港疫情发展，推估未来一至两个月确诊案例将飙至最高峰，陈时中表示，目前Omicron确诊数仍算低，但规模难以预估，未来单日恐超过一千五百例，届时致死率、个案数飙高或疫情高峰下不来，社会将承担不起，因此仍须积极因应，朝「缓坡上升」方向努力。\\n\\n轻症在家指引至今没谱\\n总统蔡英文日前宣布防疫以「减灾」为目标避免医疗量能超载，「轻症在家」隔离为其中配套，单日确诊数若达一千五百人将启动。指挥中心下周将拟定「轻症在家照护指引」，如设医疗远距平台、送药、户政及警政系统联系、关怀中心运作等，若未遵守隔离规定将有罚则，并因应地方疫情升温和医疗量能吃紧，将从新北试办。\\n\\n立委赖惠员、蒋万安昨于卫环委员会质询时，质疑各地方早已喊话希望指挥中心相关指引快出来，但至今连社区沟通、征求试办的地方政府意愿统统没有谱。\\n\\n台北市长柯文哲昨晚也在脸书表示「北市防疫旅馆量能告急」，因每天确诊人数不断攀升，近期有近万名移工入境，几乎把北市的防疫旅馆量能占满。北市已发出征召令，征用加强版防疫专责旅馆，让轻症、低危险确诊者入住。\\n\\n总统府、监察院传确诊者\\n本土疫情多点爆发，公务机关包括总统府、监察院、台北市议会都传出有确诊者，北中南八大行业确诊人数也骤增，未来场所是否新增禁令，指挥中心将再讨论。\\n\\n境外移入昨增一四九例个案，有七十八例为航班落地采检阳性，越南有十七例居冠。指挥中心表示，目前落地采检阳性率约落在四％到五％间，即日起越南航空、越捷航空及越竹航空等三航空公司班机，增加「搭机前六小时内抗原快筛报告」才可入境。\\n'"
            ],
            "application/vnd.google.colaboratory.intrinsic+json": {
              "type": "string"
            }
          },
          "metadata": {},
          "execution_count": 48
        }
      ]
    },
    {
      "cell_type": "code",
      "source": [
        "# Start by turning a text into a spaCy Doc object\n",
        "# sim_zh_doc = zh(sim_zh_input)"
      ],
      "metadata": {
        "id": "kIPXxptSFANd"
      },
      "execution_count": 49,
      "outputs": []
    },
    {
      "cell_type": "code",
      "source": [
        "#===Write your code below and save the output as `sim_zh_toks`.===#\n",
        "\n",
        "\n",
        "# sim_zh_toks ="
      ],
      "metadata": {
        "id": "-e9YFa0UE6UO"
      },
      "execution_count": 50,
      "outputs": []
    },
    {
      "cell_type": "markdown",
      "source": [
        "Evaluate whether `zh_toks` is equal to `sim_zh_toks`."
      ],
      "metadata": {
        "id": "rb_arUXbG-7L"
      }
    },
    {
      "cell_type": "code",
      "source": [
        "# zh_toks == sim_zh_toks"
      ],
      "metadata": {
        "id": "Eq437wxjFZCX"
      },
      "execution_count": 51,
      "outputs": []
    },
    {
      "cell_type": "code",
      "source": [
        "#===Write your code below and save the output as `sim_zh_ents`.===#\n",
        "\n",
        "\n",
        "# sim_zh_ents ="
      ],
      "metadata": {
        "id": "XMnHvEMsFM_7"
      },
      "execution_count": 52,
      "outputs": []
    },
    {
      "cell_type": "markdown",
      "source": [
        "Evaluate whether `zh_ents` is equal to `sim_zh_ents`."
      ],
      "metadata": {
        "id": "i2h24d8dHJiD"
      }
    },
    {
      "cell_type": "code",
      "source": [
        "# zh_ents == sim_zh_ents"
      ],
      "metadata": {
        "id": "m8VTxRwWFjX-"
      },
      "execution_count": 53,
      "outputs": []
    }
  ],
  "metadata": {
    "kernelspec": {
      "display_name": "Python 3",
      "language": "python",
      "name": "python3"
    },
    "language_info": {
      "codemirror_mode": {
        "name": "ipython",
        "version": 3
      },
      "file_extension": ".py",
      "mimetype": "text/x-python",
      "name": "python",
      "nbconvert_exporter": "python",
      "pygments_lexer": "ipython3",
      "version": "3.6.3"
    },
    "colab": {
      "name": "W01-use-pretrained-models.ipynb",
      "provenance": [],
      "toc_visible": true,
      "include_colab_link": true
    },
    "widgets": {
      "application/vnd.jupyter.widget-state+json": {
        "93f7dafa431a400bae65e84b7adad266": {
          "model_module": "@jupyter-widgets/controls",
          "model_name": "HBoxModel",
          "model_module_version": "1.5.0",
          "state": {
            "_dom_classes": [],
            "_model_module": "@jupyter-widgets/controls",
            "_model_module_version": "1.5.0",
            "_model_name": "HBoxModel",
            "_view_count": null,
            "_view_module": "@jupyter-widgets/controls",
            "_view_module_version": "1.5.0",
            "_view_name": "HBoxView",
            "box_style": "",
            "children": [
              "IPY_MODEL_ff902e79f43341628708f7f690e00dde",
              "IPY_MODEL_cb45cfe58eda4093a1be3185f7fa45be",
              "IPY_MODEL_a02ba6167e0142f5a9d5b931b3d1d41d"
            ],
            "layout": "IPY_MODEL_a55a8deefdac499aa8c2aa980e9be26c"
          }
        },
        "ff902e79f43341628708f7f690e00dde": {
          "model_module": "@jupyter-widgets/controls",
          "model_name": "HTMLModel",
          "model_module_version": "1.5.0",
          "state": {
            "_dom_classes": [],
            "_model_module": "@jupyter-widgets/controls",
            "_model_module_version": "1.5.0",
            "_model_name": "HTMLModel",
            "_view_count": null,
            "_view_module": "@jupyter-widgets/controls",
            "_view_module_version": "1.5.0",
            "_view_name": "HTMLView",
            "description": "",
            "description_tooltip": null,
            "layout": "IPY_MODEL_4d74eca697bb43d9843638ae0c6193dd",
            "placeholder": "​",
            "style": "IPY_MODEL_93999d6da8e1456385f93e3a495e9264",
            "value": "Downloading https://huggingface.co/stanfordnlp/stanza-zh-hant/resolve/v1.5.0/models/default.zip: 100%"
          }
        },
        "cb45cfe58eda4093a1be3185f7fa45be": {
          "model_module": "@jupyter-widgets/controls",
          "model_name": "FloatProgressModel",
          "model_module_version": "1.5.0",
          "state": {
            "_dom_classes": [],
            "_model_module": "@jupyter-widgets/controls",
            "_model_module_version": "1.5.0",
            "_model_name": "FloatProgressModel",
            "_view_count": null,
            "_view_module": "@jupyter-widgets/controls",
            "_view_module_version": "1.5.0",
            "_view_name": "ProgressView",
            "bar_style": "success",
            "description": "",
            "description_tooltip": null,
            "layout": "IPY_MODEL_e1de9669701847349106d800c6efbc6e",
            "max": 216366150,
            "min": 0,
            "orientation": "horizontal",
            "style": "IPY_MODEL_4d2e4d374e7f43deab1139154e208bdb",
            "value": 216366150
          }
        },
        "a02ba6167e0142f5a9d5b931b3d1d41d": {
          "model_module": "@jupyter-widgets/controls",
          "model_name": "HTMLModel",
          "model_module_version": "1.5.0",
          "state": {
            "_dom_classes": [],
            "_model_module": "@jupyter-widgets/controls",
            "_model_module_version": "1.5.0",
            "_model_name": "HTMLModel",
            "_view_count": null,
            "_view_module": "@jupyter-widgets/controls",
            "_view_module_version": "1.5.0",
            "_view_name": "HTMLView",
            "description": "",
            "description_tooltip": null,
            "layout": "IPY_MODEL_d6ca991abaa64aa1adc9982d9cbdf5bd",
            "placeholder": "​",
            "style": "IPY_MODEL_5961daef24764b439ad964844b8ccd69",
            "value": " 216M/216M [00:03&lt;00:00, 83.9MB/s]"
          }
        },
        "a55a8deefdac499aa8c2aa980e9be26c": {
          "model_module": "@jupyter-widgets/base",
          "model_name": "LayoutModel",
          "model_module_version": "1.2.0",
          "state": {
            "_model_module": "@jupyter-widgets/base",
            "_model_module_version": "1.2.0",
            "_model_name": "LayoutModel",
            "_view_count": null,
            "_view_module": "@jupyter-widgets/base",
            "_view_module_version": "1.2.0",
            "_view_name": "LayoutView",
            "align_content": null,
            "align_items": null,
            "align_self": null,
            "border": null,
            "bottom": null,
            "display": null,
            "flex": null,
            "flex_flow": null,
            "grid_area": null,
            "grid_auto_columns": null,
            "grid_auto_flow": null,
            "grid_auto_rows": null,
            "grid_column": null,
            "grid_gap": null,
            "grid_row": null,
            "grid_template_areas": null,
            "grid_template_columns": null,
            "grid_template_rows": null,
            "height": null,
            "justify_content": null,
            "justify_items": null,
            "left": null,
            "margin": null,
            "max_height": null,
            "max_width": null,
            "min_height": null,
            "min_width": null,
            "object_fit": null,
            "object_position": null,
            "order": null,
            "overflow": null,
            "overflow_x": null,
            "overflow_y": null,
            "padding": null,
            "right": null,
            "top": null,
            "visibility": null,
            "width": null
          }
        },
        "4d74eca697bb43d9843638ae0c6193dd": {
          "model_module": "@jupyter-widgets/base",
          "model_name": "LayoutModel",
          "model_module_version": "1.2.0",
          "state": {
            "_model_module": "@jupyter-widgets/base",
            "_model_module_version": "1.2.0",
            "_model_name": "LayoutModel",
            "_view_count": null,
            "_view_module": "@jupyter-widgets/base",
            "_view_module_version": "1.2.0",
            "_view_name": "LayoutView",
            "align_content": null,
            "align_items": null,
            "align_self": null,
            "border": null,
            "bottom": null,
            "display": null,
            "flex": null,
            "flex_flow": null,
            "grid_area": null,
            "grid_auto_columns": null,
            "grid_auto_flow": null,
            "grid_auto_rows": null,
            "grid_column": null,
            "grid_gap": null,
            "grid_row": null,
            "grid_template_areas": null,
            "grid_template_columns": null,
            "grid_template_rows": null,
            "height": null,
            "justify_content": null,
            "justify_items": null,
            "left": null,
            "margin": null,
            "max_height": null,
            "max_width": null,
            "min_height": null,
            "min_width": null,
            "object_fit": null,
            "object_position": null,
            "order": null,
            "overflow": null,
            "overflow_x": null,
            "overflow_y": null,
            "padding": null,
            "right": null,
            "top": null,
            "visibility": null,
            "width": null
          }
        },
        "93999d6da8e1456385f93e3a495e9264": {
          "model_module": "@jupyter-widgets/controls",
          "model_name": "DescriptionStyleModel",
          "model_module_version": "1.5.0",
          "state": {
            "_model_module": "@jupyter-widgets/controls",
            "_model_module_version": "1.5.0",
            "_model_name": "DescriptionStyleModel",
            "_view_count": null,
            "_view_module": "@jupyter-widgets/base",
            "_view_module_version": "1.2.0",
            "_view_name": "StyleView",
            "description_width": ""
          }
        },
        "e1de9669701847349106d800c6efbc6e": {
          "model_module": "@jupyter-widgets/base",
          "model_name": "LayoutModel",
          "model_module_version": "1.2.0",
          "state": {
            "_model_module": "@jupyter-widgets/base",
            "_model_module_version": "1.2.0",
            "_model_name": "LayoutModel",
            "_view_count": null,
            "_view_module": "@jupyter-widgets/base",
            "_view_module_version": "1.2.0",
            "_view_name": "LayoutView",
            "align_content": null,
            "align_items": null,
            "align_self": null,
            "border": null,
            "bottom": null,
            "display": null,
            "flex": null,
            "flex_flow": null,
            "grid_area": null,
            "grid_auto_columns": null,
            "grid_auto_flow": null,
            "grid_auto_rows": null,
            "grid_column": null,
            "grid_gap": null,
            "grid_row": null,
            "grid_template_areas": null,
            "grid_template_columns": null,
            "grid_template_rows": null,
            "height": null,
            "justify_content": null,
            "justify_items": null,
            "left": null,
            "margin": null,
            "max_height": null,
            "max_width": null,
            "min_height": null,
            "min_width": null,
            "object_fit": null,
            "object_position": null,
            "order": null,
            "overflow": null,
            "overflow_x": null,
            "overflow_y": null,
            "padding": null,
            "right": null,
            "top": null,
            "visibility": null,
            "width": null
          }
        },
        "4d2e4d374e7f43deab1139154e208bdb": {
          "model_module": "@jupyter-widgets/controls",
          "model_name": "ProgressStyleModel",
          "model_module_version": "1.5.0",
          "state": {
            "_model_module": "@jupyter-widgets/controls",
            "_model_module_version": "1.5.0",
            "_model_name": "ProgressStyleModel",
            "_view_count": null,
            "_view_module": "@jupyter-widgets/base",
            "_view_module_version": "1.2.0",
            "_view_name": "StyleView",
            "bar_color": null,
            "description_width": ""
          }
        },
        "d6ca991abaa64aa1adc9982d9cbdf5bd": {
          "model_module": "@jupyter-widgets/base",
          "model_name": "LayoutModel",
          "model_module_version": "1.2.0",
          "state": {
            "_model_module": "@jupyter-widgets/base",
            "_model_module_version": "1.2.0",
            "_model_name": "LayoutModel",
            "_view_count": null,
            "_view_module": "@jupyter-widgets/base",
            "_view_module_version": "1.2.0",
            "_view_name": "LayoutView",
            "align_content": null,
            "align_items": null,
            "align_self": null,
            "border": null,
            "bottom": null,
            "display": null,
            "flex": null,
            "flex_flow": null,
            "grid_area": null,
            "grid_auto_columns": null,
            "grid_auto_flow": null,
            "grid_auto_rows": null,
            "grid_column": null,
            "grid_gap": null,
            "grid_row": null,
            "grid_template_areas": null,
            "grid_template_columns": null,
            "grid_template_rows": null,
            "height": null,
            "justify_content": null,
            "justify_items": null,
            "left": null,
            "margin": null,
            "max_height": null,
            "max_width": null,
            "min_height": null,
            "min_width": null,
            "object_fit": null,
            "object_position": null,
            "order": null,
            "overflow": null,
            "overflow_x": null,
            "overflow_y": null,
            "padding": null,
            "right": null,
            "top": null,
            "visibility": null,
            "width": null
          }
        },
        "5961daef24764b439ad964844b8ccd69": {
          "model_module": "@jupyter-widgets/controls",
          "model_name": "DescriptionStyleModel",
          "model_module_version": "1.5.0",
          "state": {
            "_model_module": "@jupyter-widgets/controls",
            "_model_module_version": "1.5.0",
            "_model_name": "DescriptionStyleModel",
            "_view_count": null,
            "_view_module": "@jupyter-widgets/base",
            "_view_module_version": "1.2.0",
            "_view_name": "StyleView",
            "description_width": ""
          }
        },
        "77fc5e584f7f4983bb2dc750315f6140": {
          "model_module": "@jupyter-widgets/controls",
          "model_name": "HBoxModel",
          "model_module_version": "1.5.0",
          "state": {
            "_dom_classes": [],
            "_model_module": "@jupyter-widgets/controls",
            "_model_module_version": "1.5.0",
            "_model_name": "HBoxModel",
            "_view_count": null,
            "_view_module": "@jupyter-widgets/controls",
            "_view_module_version": "1.5.0",
            "_view_name": "HBoxView",
            "box_style": "",
            "children": [
              "IPY_MODEL_3b1a086bfc6e405ab6b97500b052bbbf",
              "IPY_MODEL_3d6d6530d49041058a2abb51b18c6916",
              "IPY_MODEL_fb9791b905b24599a7b252b394726e0d"
            ],
            "layout": "IPY_MODEL_c5e7d169748d4e5b9cb980aa27d01721"
          }
        },
        "3b1a086bfc6e405ab6b97500b052bbbf": {
          "model_module": "@jupyter-widgets/controls",
          "model_name": "HTMLModel",
          "model_module_version": "1.5.0",
          "state": {
            "_dom_classes": [],
            "_model_module": "@jupyter-widgets/controls",
            "_model_module_version": "1.5.0",
            "_model_name": "HTMLModel",
            "_view_count": null,
            "_view_module": "@jupyter-widgets/controls",
            "_view_module_version": "1.5.0",
            "_view_name": "HTMLView",
            "description": "",
            "description_tooltip": null,
            "layout": "IPY_MODEL_01ce4a7113e14888b8443410fbe4ee65",
            "placeholder": "​",
            "style": "IPY_MODEL_367a92f024964173b1d98acc4d54f0c1",
            "value": "Downloading https://raw.githubusercontent.com/stanfordnlp/stanza-resources/main/resources_1.5.0.json: "
          }
        },
        "3d6d6530d49041058a2abb51b18c6916": {
          "model_module": "@jupyter-widgets/controls",
          "model_name": "FloatProgressModel",
          "model_module_version": "1.5.0",
          "state": {
            "_dom_classes": [],
            "_model_module": "@jupyter-widgets/controls",
            "_model_module_version": "1.5.0",
            "_model_name": "FloatProgressModel",
            "_view_count": null,
            "_view_module": "@jupyter-widgets/controls",
            "_view_module_version": "1.5.0",
            "_view_name": "ProgressView",
            "bar_style": "success",
            "description": "",
            "description_tooltip": null,
            "layout": "IPY_MODEL_89211a5e24d04c529809c65fac78f3d7",
            "max": 30101,
            "min": 0,
            "orientation": "horizontal",
            "style": "IPY_MODEL_af2cf252063c4739a316d4e7f3e6a841",
            "value": 30101
          }
        },
        "fb9791b905b24599a7b252b394726e0d": {
          "model_module": "@jupyter-widgets/controls",
          "model_name": "HTMLModel",
          "model_module_version": "1.5.0",
          "state": {
            "_dom_classes": [],
            "_model_module": "@jupyter-widgets/controls",
            "_model_module_version": "1.5.0",
            "_model_name": "HTMLModel",
            "_view_count": null,
            "_view_module": "@jupyter-widgets/controls",
            "_view_module_version": "1.5.0",
            "_view_name": "HTMLView",
            "description": "",
            "description_tooltip": null,
            "layout": "IPY_MODEL_232ecfb14be44947ab99a42748eb1f31",
            "placeholder": "​",
            "style": "IPY_MODEL_1e2775f35d624c92ab2e78a620af47af",
            "value": " 216k/? [00:00&lt;00:00, 5.26MB/s]"
          }
        },
        "c5e7d169748d4e5b9cb980aa27d01721": {
          "model_module": "@jupyter-widgets/base",
          "model_name": "LayoutModel",
          "model_module_version": "1.2.0",
          "state": {
            "_model_module": "@jupyter-widgets/base",
            "_model_module_version": "1.2.0",
            "_model_name": "LayoutModel",
            "_view_count": null,
            "_view_module": "@jupyter-widgets/base",
            "_view_module_version": "1.2.0",
            "_view_name": "LayoutView",
            "align_content": null,
            "align_items": null,
            "align_self": null,
            "border": null,
            "bottom": null,
            "display": null,
            "flex": null,
            "flex_flow": null,
            "grid_area": null,
            "grid_auto_columns": null,
            "grid_auto_flow": null,
            "grid_auto_rows": null,
            "grid_column": null,
            "grid_gap": null,
            "grid_row": null,
            "grid_template_areas": null,
            "grid_template_columns": null,
            "grid_template_rows": null,
            "height": null,
            "justify_content": null,
            "justify_items": null,
            "left": null,
            "margin": null,
            "max_height": null,
            "max_width": null,
            "min_height": null,
            "min_width": null,
            "object_fit": null,
            "object_position": null,
            "order": null,
            "overflow": null,
            "overflow_x": null,
            "overflow_y": null,
            "padding": null,
            "right": null,
            "top": null,
            "visibility": null,
            "width": null
          }
        },
        "01ce4a7113e14888b8443410fbe4ee65": {
          "model_module": "@jupyter-widgets/base",
          "model_name": "LayoutModel",
          "model_module_version": "1.2.0",
          "state": {
            "_model_module": "@jupyter-widgets/base",
            "_model_module_version": "1.2.0",
            "_model_name": "LayoutModel",
            "_view_count": null,
            "_view_module": "@jupyter-widgets/base",
            "_view_module_version": "1.2.0",
            "_view_name": "LayoutView",
            "align_content": null,
            "align_items": null,
            "align_self": null,
            "border": null,
            "bottom": null,
            "display": null,
            "flex": null,
            "flex_flow": null,
            "grid_area": null,
            "grid_auto_columns": null,
            "grid_auto_flow": null,
            "grid_auto_rows": null,
            "grid_column": null,
            "grid_gap": null,
            "grid_row": null,
            "grid_template_areas": null,
            "grid_template_columns": null,
            "grid_template_rows": null,
            "height": null,
            "justify_content": null,
            "justify_items": null,
            "left": null,
            "margin": null,
            "max_height": null,
            "max_width": null,
            "min_height": null,
            "min_width": null,
            "object_fit": null,
            "object_position": null,
            "order": null,
            "overflow": null,
            "overflow_x": null,
            "overflow_y": null,
            "padding": null,
            "right": null,
            "top": null,
            "visibility": null,
            "width": null
          }
        },
        "367a92f024964173b1d98acc4d54f0c1": {
          "model_module": "@jupyter-widgets/controls",
          "model_name": "DescriptionStyleModel",
          "model_module_version": "1.5.0",
          "state": {
            "_model_module": "@jupyter-widgets/controls",
            "_model_module_version": "1.5.0",
            "_model_name": "DescriptionStyleModel",
            "_view_count": null,
            "_view_module": "@jupyter-widgets/base",
            "_view_module_version": "1.2.0",
            "_view_name": "StyleView",
            "description_width": ""
          }
        },
        "89211a5e24d04c529809c65fac78f3d7": {
          "model_module": "@jupyter-widgets/base",
          "model_name": "LayoutModel",
          "model_module_version": "1.2.0",
          "state": {
            "_model_module": "@jupyter-widgets/base",
            "_model_module_version": "1.2.0",
            "_model_name": "LayoutModel",
            "_view_count": null,
            "_view_module": "@jupyter-widgets/base",
            "_view_module_version": "1.2.0",
            "_view_name": "LayoutView",
            "align_content": null,
            "align_items": null,
            "align_self": null,
            "border": null,
            "bottom": null,
            "display": null,
            "flex": null,
            "flex_flow": null,
            "grid_area": null,
            "grid_auto_columns": null,
            "grid_auto_flow": null,
            "grid_auto_rows": null,
            "grid_column": null,
            "grid_gap": null,
            "grid_row": null,
            "grid_template_areas": null,
            "grid_template_columns": null,
            "grid_template_rows": null,
            "height": null,
            "justify_content": null,
            "justify_items": null,
            "left": null,
            "margin": null,
            "max_height": null,
            "max_width": null,
            "min_height": null,
            "min_width": null,
            "object_fit": null,
            "object_position": null,
            "order": null,
            "overflow": null,
            "overflow_x": null,
            "overflow_y": null,
            "padding": null,
            "right": null,
            "top": null,
            "visibility": null,
            "width": null
          }
        },
        "af2cf252063c4739a316d4e7f3e6a841": {
          "model_module": "@jupyter-widgets/controls",
          "model_name": "ProgressStyleModel",
          "model_module_version": "1.5.0",
          "state": {
            "_model_module": "@jupyter-widgets/controls",
            "_model_module_version": "1.5.0",
            "_model_name": "ProgressStyleModel",
            "_view_count": null,
            "_view_module": "@jupyter-widgets/base",
            "_view_module_version": "1.2.0",
            "_view_name": "StyleView",
            "bar_color": null,
            "description_width": ""
          }
        },
        "232ecfb14be44947ab99a42748eb1f31": {
          "model_module": "@jupyter-widgets/base",
          "model_name": "LayoutModel",
          "model_module_version": "1.2.0",
          "state": {
            "_model_module": "@jupyter-widgets/base",
            "_model_module_version": "1.2.0",
            "_model_name": "LayoutModel",
            "_view_count": null,
            "_view_module": "@jupyter-widgets/base",
            "_view_module_version": "1.2.0",
            "_view_name": "LayoutView",
            "align_content": null,
            "align_items": null,
            "align_self": null,
            "border": null,
            "bottom": null,
            "display": null,
            "flex": null,
            "flex_flow": null,
            "grid_area": null,
            "grid_auto_columns": null,
            "grid_auto_flow": null,
            "grid_auto_rows": null,
            "grid_column": null,
            "grid_gap": null,
            "grid_row": null,
            "grid_template_areas": null,
            "grid_template_columns": null,
            "grid_template_rows": null,
            "height": null,
            "justify_content": null,
            "justify_items": null,
            "left": null,
            "margin": null,
            "max_height": null,
            "max_width": null,
            "min_height": null,
            "min_width": null,
            "object_fit": null,
            "object_position": null,
            "order": null,
            "overflow": null,
            "overflow_x": null,
            "overflow_y": null,
            "padding": null,
            "right": null,
            "top": null,
            "visibility": null,
            "width": null
          }
        },
        "1e2775f35d624c92ab2e78a620af47af": {
          "model_module": "@jupyter-widgets/controls",
          "model_name": "DescriptionStyleModel",
          "model_module_version": "1.5.0",
          "state": {
            "_model_module": "@jupyter-widgets/controls",
            "_model_module_version": "1.5.0",
            "_model_name": "DescriptionStyleModel",
            "_view_count": null,
            "_view_module": "@jupyter-widgets/base",
            "_view_module_version": "1.2.0",
            "_view_name": "StyleView",
            "description_width": ""
          }
        }
      }
    }
  },
  "nbformat": 4,
  "nbformat_minor": 0
}